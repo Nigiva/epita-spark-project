{
 "cells": [
  {
   "cell_type": "markdown",
   "metadata": {},
   "source": [
    "# Analyse des données\n",
    "\n",
    "## Utilisation\n",
    "Dans ce notebook, on utilise `spylon` pour exécuter du code Scala.\n",
    "Pour utiliser le notebook, il faut exécuter les commandes suivantes :\n",
    "* Installer l'environnement virtuel Python :\n",
    "  * On utilise Python 3.8.10 `pyenv shell 3.8.10`\n",
    "  * On utilise Poetry pour la gestion de nos dépendances `poetry install`\n",
    "* Installer le Kernel Scala :\n",
    "  * `poetry shell`\n",
    "  * `python -m spylon_kernel install --user`\n",
    "\n",
    "Une fois que toutes ces étapes ont été faites, vous pouvez choisir le kernel `spylon-kernel` à l'exécution du notebook.\n",
    "\n",
    "## Introduction \n",
    "Durant cette analyse, on va tenter de répondre à 4 questions que l'on se pose suite au traitement de la masse de données collectées par nos drones.\n",
    "\n",
    "On va principalement manipuler les données avec Spark en Scala. On prendra la liberté d'utiliser Matplotlib en Python pour afficher des graphique comme le langage est plus adapté pour ce genre de manœuvre.\n",
    "\n",
    "**Définition d'Alerte :** est une alerte pour un citoyen donné lorsque le PeaceScore dépasse le seuil de 50."
   ]
  },
  {
   "cell_type": "markdown",
   "metadata": {},
   "source": [
    "## Charger les données"
   ]
  },
  {
   "cell_type": "code",
   "execution_count": 1,
   "metadata": {},
   "outputs": [
    {
     "data": {
      "text/plain": [
       "Intitializing Scala interpreter ..."
      ]
     },
     "metadata": {},
     "output_type": "display_data"
    },
    {
     "data": {
      "text/plain": [
       "Spark Web UI available at http://172.29.124.189:4041\n",
       "SparkContext available as 'sc' (version = 3.2.1, master = local[*], app id = local-1655134801508)\n",
       "SparkSession available as 'spark'\n"
      ]
     },
     "metadata": {},
     "output_type": "display_data"
    },
    {
     "name": "stdout",
     "output_type": "stream",
     "text": [
      "+--------+--------------+-------------------+-------------------+-----------------+------------+---------+-----------+\n",
      "|reportId|peaceWatcherId|               time|           latitude|        longitude|  heardWords|citizenId|peaceScores|\n",
      "+--------+--------------+-------------------+-------------------+-----------------+------------+---------+-----------+\n",
      "|  349899|        982833|2022-01-20 19:26:09|-152.16480586751462|48.20504188561014|        arse|   539475|         55|\n",
      "|  349899|        982833|2022-01-20 19:26:09|-152.16480586751462|48.20504188561014|        arse|   540069|         26|\n",
      "|  349899|        982833|2022-01-20 19:26:09|-152.16480586751462|48.20504188561014|        arse|   207958|         32|\n",
      "|  349899|        982833|2022-01-20 19:26:09|-152.16480586751462|48.20504188561014|        arse|   479020|         59|\n",
      "|  349899|        982833|2022-01-20 19:26:09|-152.16480586751462|48.20504188561014|         ass|   539475|         55|\n",
      "|  349899|        982833|2022-01-20 19:26:09|-152.16480586751462|48.20504188561014|         ass|   540069|         26|\n",
      "|  349899|        982833|2022-01-20 19:26:09|-152.16480586751462|48.20504188561014|         ass|   207958|         32|\n",
      "|  349899|        982833|2022-01-20 19:26:09|-152.16480586751462|48.20504188561014|         ass|   479020|         59|\n",
      "|  349899|        982833|2022-01-20 19:26:09|-152.16480586751462|48.20504188561014|         ass|   539475|         55|\n",
      "|  349899|        982833|2022-01-20 19:26:09|-152.16480586751462|48.20504188561014|         ass|   540069|         26|\n",
      "|  349899|        982833|2022-01-20 19:26:09|-152.16480586751462|48.20504188561014|         ass|   207958|         32|\n",
      "|  349899|        982833|2022-01-20 19:26:09|-152.16480586751462|48.20504188561014|         ass|   479020|         59|\n",
      "|  349899|        982833|2022-01-20 19:26:09|-152.16480586751462|48.20504188561014|        crap|   539475|         55|\n",
      "|  349899|        982833|2022-01-20 19:26:09|-152.16480586751462|48.20504188561014|        crap|   540069|         26|\n",
      "|  349899|        982833|2022-01-20 19:26:09|-152.16480586751462|48.20504188561014|        crap|   207958|         32|\n",
      "|  349899|        982833|2022-01-20 19:26:09|-152.16480586751462|48.20504188561014|        crap|   479020|         59|\n",
      "|  349899|        982833|2022-01-20 19:26:09|-152.16480586751462|48.20504188561014|motherfucker|   539475|         55|\n",
      "|  349899|        982833|2022-01-20 19:26:09|-152.16480586751462|48.20504188561014|motherfucker|   540069|         26|\n",
      "|  349899|        982833|2022-01-20 19:26:09|-152.16480586751462|48.20504188561014|motherfucker|   207958|         32|\n",
      "|  349899|        982833|2022-01-20 19:26:09|-152.16480586751462|48.20504188561014|motherfucker|   479020|         59|\n",
      "+--------+--------------+-------------------+-------------------+-----------------+------------+---------+-----------+\n",
      "only showing top 20 rows\n",
      "\n"
     ]
    },
    {
     "data": {
      "text/plain": [
       "PEACESCORE_THRESHOLD: Int = 50\n",
       "df: org.apache.spark.sql.DataFrame = [reportId: int, peaceWatcherId: int ... 6 more fields]\n"
      ]
     },
     "execution_count": 1,
     "metadata": {},
     "output_type": "execute_result"
    }
   ],
   "source": [
    "val PEACESCORE_THRESHOLD = 50\n",
    "\n",
    "val df = spark.read.csv(\"hdfs://localhost:9000/drone-reports\")\n",
    "    .withColumnRenamed(\"_c0\",\"reportId\")\n",
    "    .withColumnRenamed(\"_c1\",\"peaceWatcherId\")\n",
    "    .withColumnRenamed(\"_c2\",\"time\")\n",
    "    .withColumnRenamed(\"_c3\",\"latitude\")\n",
    "    .withColumnRenamed(\"_c4\",\"longitude\")\n",
    "    .withColumnRenamed(\"_c5\",\"heardWords\")\n",
    "    .withColumnRenamed(\"_c6\",\"citizenId\")\n",
    "    .withColumnRenamed(\"_c7\",\"peaceScores\")\n",
    "\n",
    "    .withColumn(\"reportId\",col(\"reportId\").cast(\"int\"))\n",
    "    .withColumn(\"peaceWatcherId\",col(\"peaceWatcherId\").cast(\"int\"))\n",
    "    .withColumn(\"time\",to_timestamp(col(\"time\"), \"yyyy-MM-dd HH:mm:ss\"))\n",
    "    .withColumn(\"latitude\",col(\"latitude\").cast(\"double\"))\n",
    "    .withColumn(\"longitude\",col(\"longitude\").cast(\"double\"))\n",
    "    .withColumn(\"citizenId\",col(\"citizenId\").cast(\"int\"))\n",
    "    .withColumn(\"peaceScores\",col(\"peaceScores\").cast(\"int\"))\n",
    "\n",
    "    df.show()"
   ]
  },
  {
   "cell_type": "code",
   "execution_count": 2,
   "metadata": {},
   "outputs": [
    {
     "data": {
      "text/plain": [
       "import java.time.LocalDate\n",
       "import java.time.format.DateTimeFormatter\n",
       "import java.sql.Timestamp\n",
       "dateTimeFormat: java.time.format.DateTimeFormatter = Value(YearOfEra,4,19,EXCEEDS_PAD)'-'Value(MonthOfYear,2)'-'Value(DayOfMonth,2)' 'Value(HourOfDay,2)':'Value(MinuteOfHour,2)':'Value(SecondOfMinute,2)'.'Fraction(NanoOfSecond,1,1)\n",
       "dateMax: Any = 2022-06-11 14:37:01.0\n",
       "dateMin: Any = 2022-01-01 00:36:18.0\n",
       "localDateMax: java.time.LocalDate = 2022-06-11\n",
       "localDateMin: java.time.LocalDate = 2022-01-01\n",
       "number_of_days: Long = 161\n"
      ]
     },
     "execution_count": 2,
     "metadata": {},
     "output_type": "execute_result"
    }
   ],
   "source": [
    "import java.time.LocalDate\n",
    "import java.time.format.DateTimeFormatter\n",
    "import java.sql.Timestamp\n",
    "\n",
    "// Obtenir le nombre de jour entre le rapport le plus ancien et le plus récent\n",
    "val dateTimeFormat = DateTimeFormatter.ofPattern(\"yyyy-MM-dd HH:mm:ss.S\")\n",
    "val dateMax = df.select(max(\"time\")).collect()(0)(0)\n",
    "val dateMin = df.select(min(\"time\")).collect()(0)(0)\n",
    "val localDateMax = LocalDate.parse(dateMax.toString(), dateTimeFormat)\n",
    "val localDateMin = LocalDate.parse(dateMin.toString(), dateTimeFormat)\n",
    "val number_of_days = localDateMax.toEpochDay() - localDateMin.toEpochDay()"
   ]
  },
  {
   "cell_type": "markdown",
   "metadata": {},
   "source": [
    "## Question 1 : Quels sont les jours de la semaine avec le nombre moyen d'alertes le plus important ?"
   ]
  },
  {
   "cell_type": "markdown",
   "metadata": {},
   "source": [
    "Cette question permet de savoir quand allouer plus de PeaceMakers durant la semaine et à contrario le moment parfait pour accorder un jour de congé à nos troupes de maintien de la paix."
   ]
  },
  {
   "cell_type": "code",
   "execution_count": 3,
   "metadata": {},
   "outputs": [
    {
     "name": "stdout",
     "output_type": "stream",
     "text": [
      "+--------+------------------+\n",
      "|week_day|  Nombre d'alertes|\n",
      "+--------+------------------+\n",
      "|     Sun|15.826086956521738|\n",
      "|     Mon|14.608695652173912|\n",
      "|     Thu|13.956521739130435|\n",
      "|     Sat|14.347826086956522|\n",
      "|     Wed|15.347826086956522|\n",
      "|     Tue|14.565217391304348|\n",
      "|     Fri|13.869565217391305|\n",
      "+--------+------------------+\n",
      "\n"
     ]
    },
    {
     "data": {
      "text/plain": [
       "import org.apache.spark.sql.functions._\n",
       "question_1_dataframe: org.apache.spark.sql.DataFrame = [week_day: string, Nombre d'alertes: double]\n"
      ]
     },
     "execution_count": 3,
     "metadata": {},
     "output_type": "execute_result"
    }
   ],
   "source": [
    "import org.apache.spark.sql.functions._\n",
    "\n",
    "val question_1_dataframe = df\n",
    "    .dropDuplicates(\"reportId\", \"citizenId\") \n",
    "    .filter(col(\"peaceScores\") > PEACESCORE_THRESHOLD) // Retirer les doublons liés à la liste de mots heardWords\n",
    "    .withColumn(\"week_day\", date_format(col(\"time\"), \"E\")) // E pour day_of_week\n",
    "    .groupBy(\"week_day\")\n",
    "    .count()\n",
    "    .withColumn(\"count\", col(\"count\") / (number_of_days / 7))\n",
    "    .withColumnRenamed(\"count\",\"Nombre d'alertes\")\n",
    "\n",
    "question_1_dataframe.show()\n",
    "question_1_dataframe.createOrReplaceTempView(\"question_1_dataframe\")"
   ]
  },
  {
   "cell_type": "code",
   "execution_count": 4,
   "metadata": {},
   "outputs": [
    {
     "name": "stdout",
     "output_type": "stream",
     "text": [
      "          Nombre d'alertes\n",
      "week_day                  \n",
      "Fri              13.869565\n",
      "Thu              13.956522\n",
      "Sat              14.347826\n",
      "Tue              14.565217\n",
      "Mon              14.608696\n",
      "Wed              15.347826\n",
      "Sun              15.826087\n"
     ]
    },
    {
     "data": {
      "image/png": "[encoded data removed]",
      "text/plain": [
       "<IPython.core.display.Image object>"
      ]
     },
     "execution_count": 4,
     "metadata": {},
     "output_type": "execute_result"
    }
   ],
   "source": [
    "%%python\n",
    "from matplotlib import pyplot as plt\n",
    "from IPython.display import Image\n",
    "import tempfile\n",
    "\n",
    "df = spark.sql(\"select * from question_1_dataframe\").toPandas()\n",
    "df = df.set_index(df[\"week_day\"]).drop(\"week_day\", axis=1).sort_values(\"Nombre d'alertes\")\n",
    "print(df)\n",
    "plt.clf()\n",
    "plt.bar(df.index, height=df[\"Nombre d'alertes\"])\n",
    "plt.title(\"Nombre moyen d'alertes par jour\")\n",
    "plt.xlabel(\"Jour de la semaine\")\n",
    "plt.ylabel(\"Nombre moyen d'alertes\")\n",
    "with tempfile.NamedTemporaryFile(suffix=\".png\") as graph:\n",
    "    plt.savefig(graph.name)\n",
    "    retval = Image(filename=graph.name)\n"
   ]
  },
  {
   "cell_type": "markdown",
   "metadata": {},
   "source": [
    "## Question 2 : Quelle est l'évolution de la moyenne des PeaceScores en fonction du mois de l'année ?"
   ]
  },
  {
   "cell_type": "markdown",
   "metadata": {},
   "source": [
    "Ça nous permettra de connaître le moment dans l'année où la paix est la plus menacée et donc de savoir quel évenement influence le plus l'humeur de nos citoyens. On peut facilement imaginer par exemple que les citoyens soient plus heureux en été grâce au Soleil et moins en Hiver par manque de luminosité."
   ]
  },
  {
   "cell_type": "code",
   "execution_count": 5,
   "metadata": {},
   "outputs": [
    {
     "name": "stdout",
     "output_type": "stream",
     "text": [
      "+-----+------------------+\n",
      "|month|       peaceScores|\n",
      "+-----+------------------+\n",
      "|    3|33.314007617435465|\n",
      "|    5| 32.25171736997056|\n",
      "|    6|34.515151515151516|\n",
      "|    1| 32.37715179968701|\n",
      "|    4| 32.74223127865512|\n",
      "|    2| 33.27147941026944|\n",
      "+-----+------------------+\n",
      "\n"
     ]
    },
    {
     "data": {
      "text/plain": [
       "import org.apache.spark.sql.functions._\n",
       "question_2_dataframe: org.apache.spark.sql.DataFrame = [month: string, peaceScores: double]\n"
      ]
     },
     "execution_count": 5,
     "metadata": {},
     "output_type": "execute_result"
    }
   ],
   "source": [
    "import org.apache.spark.sql.functions._\n",
    "\n",
    "val question_2_dataframe = df\n",
    "    .dropDuplicates(\"reportId\", \"citizenId\")\n",
    "    .withColumn(\"month\", date_format(col(\"time\"), \"L\")) // L pour month en texte\n",
    "    .groupBy(\"month\")\n",
    "    .mean(\"peaceScores\")\n",
    "    .withColumnRenamed(\"avg(peaceScores)\",\"peaceScores\")\n",
    "\n",
    "question_2_dataframe.show()\n",
    "question_2_dataframe.createOrReplaceTempView(\"question_2_dataframe\")"
   ]
  },
  {
   "cell_type": "markdown",
   "metadata": {},
   "source": [
    "### Question intermédiaire : Quel est le moment de la journée où le nombre moyen d'alertes est le plus important ?"
   ]
  },
  {
   "cell_type": "markdown",
   "metadata": {},
   "source": [
    "Le nombre moyen d'alertes en fonction du moment dans la journée nous permet de savoir quand est-ce que l'on doit mettre plus de moyens pour maintenir la paix. On peut intuitivement penser que les citoyens étant moins actifs la nuit, les moyens alloués peuvent être réduits permettant ainsi d'économiser des ressources et aussi beaucoup d'argent."
   ]
  },
  {
   "cell_type": "code",
   "execution_count": 6,
   "metadata": {},
   "outputs": [
    {
     "name": "stdout",
     "output_type": "stream",
     "text": [
      "+----+------------------+\n",
      "|hour|  Nombre d'alertes|\n",
      "+----+------------------+\n",
      "|  12|              19.0|\n",
      "|  22|              13.5|\n",
      "|   1|18.666666666666668|\n",
      "|  13|19.333333333333332|\n",
      "|   6|              15.5|\n",
      "|  16|17.833333333333332|\n",
      "|   3|17.666666666666668|\n",
      "|  20|16.666666666666668|\n",
      "|   5|              14.5|\n",
      "|  19|              18.5|\n",
      "|  15|13.833333333333334|\n",
      "|   9|              20.5|\n",
      "|  17|14.666666666666666|\n",
      "|   4|              19.5|\n",
      "|   8|14.333333333333334|\n",
      "|  23|12.166666666666666|\n",
      "|   7|              16.5|\n",
      "|  10|              11.5|\n",
      "|  21|21.333333333333332|\n",
      "|  11|16.166666666666668|\n",
      "+----+------------------+\n",
      "only showing top 20 rows\n",
      "\n"
     ]
    },
    {
     "data": {
      "text/plain": [
       "import org.apache.spark.sql.functions._\n",
       "question_2_bis_dataframe: org.apache.spark.sql.DataFrame = [hour: int, Nombre d'alertes: double]\n"
      ]
     },
     "execution_count": 6,
     "metadata": {},
     "output_type": "execute_result"
    }
   ],
   "source": [
    "import org.apache.spark.sql.functions._\n",
    "\n",
    "val question_2_bis_dataframe = df\n",
    "    .dropDuplicates(\"reportId\", \"citizenId\")\n",
    "    .filter(col(\"peaceScores\") > PEACESCORE_THRESHOLD)\n",
    "    .withColumn(\"hour\", hour(col(\"time\")))\n",
    "    .groupBy(\"hour\")\n",
    "    .count()\n",
    "    .withColumn(\"count\", col(\"count\") / (number_of_days / 24))\n",
    "    .withColumnRenamed(\"count\",\"Nombre d'alertes\")\n",
    "\n",
    "question_2_bis_dataframe.show()\n",
    "question_2_bis_dataframe.createOrReplaceTempView(\"question_2_bis_dataframe\")"
   ]
  },
  {
   "cell_type": "code",
   "execution_count": 7,
   "metadata": {},
   "outputs": [
    {
     "name": "stdout",
     "output_type": "stream",
     "text": [
      "      Nombre d'alertes\n",
      "hour                  \n",
      "0            16.833333\n",
      "1            18.666667\n",
      "2            13.166667\n",
      "3            17.666667\n",
      "4            19.500000\n",
      "5            14.500000\n",
      "6            15.500000\n",
      "7            16.500000\n",
      "8            14.333333\n",
      "9            20.500000\n",
      "10           11.500000\n",
      "11           16.166667\n",
      "12           19.000000\n",
      "13           19.333333\n",
      "14           19.333333\n",
      "15           13.833333\n",
      "16           17.833333\n",
      "17           14.666667\n",
      "18           12.000000\n",
      "19           18.500000\n",
      "20           16.666667\n",
      "21           21.333333\n",
      "22           13.500000\n",
      "23           12.166667\n"
     ]
    },
    {
     "data": {
      "image/png": "[encoded data removed]",
      "text/plain": [
       "<IPython.core.display.Image object>"
      ]
     },
     "execution_count": 7,
     "metadata": {},
     "output_type": "execute_result"
    }
   ],
   "source": [
    "%%python\n",
    "from matplotlib import pyplot as plt\n",
    "from IPython.display import Image\n",
    "import tempfile\n",
    "import pandas as pd\n",
    "\n",
    "df = spark.sql(\"select * from question_2_bis_dataframe\").toPandas()\n",
    "df = df.set_index(df[\"hour\"]).drop(\"hour\", axis=1).sort_index()\n",
    "print(df)\n",
    "plt.clf()\n",
    "plt.bar(df.index, height=df[\"Nombre d'alertes\"])\n",
    "plt.plot(df.rolling(5, center=True, min_periods=1).mean(), color=\"red\", label=\"Moyenne mobile\")\n",
    "plt.title(\"Nombre moyen d'alertes en fonction de l'heure de la journée\")\n",
    "plt.xlabel(\"Heure de la journée\")\n",
    "plt.ylabel(\"Nombre moyen d'alertes\")\n",
    "plt.legend()\n",
    "with tempfile.NamedTemporaryFile(suffix=\".png\") as graph:\n",
    "    plt.savefig(graph.name)\n",
    "    retval = Image(filename=graph.name)"
   ]
  },
  {
   "cell_type": "markdown",
   "metadata": {},
   "source": [
    "## Question 3 : Dans quelle zone de PeaceLand trouve-t-on le plus souvent des alertes ?"
   ]
  },
  {
   "cell_type": "markdown",
   "metadata": {},
   "source": [
    "On considère ici que PeaceLand est une zone carrée composée de 4 arrondissements. On cherche à savoir quel arrondissement représente le plus une menace pour la paix de notre communauté. Ça nous permet de savoir comment répartir au mieux nos troupes de maintien de la paix pour qu'elles puissent réagir plus vite et de manière plus efficace."
   ]
  },
  {
   "cell_type": "markdown",
   "metadata": {},
   "source": [
    "| **1er arrondissement** | **2e arrondissement** |\n",
    "|:----------------------:|:---------------------:|\n",
    "| **3e arrondissement**  | **4e arrondissement** |"
   ]
  },
  {
   "cell_type": "code",
   "execution_count": 8,
   "metadata": {},
   "outputs": [
    {
     "name": "stdout",
     "output_type": "stream",
     "text": [
      "+--------------+----------------+\n",
      "|arrondissement|Nombre d'alertes|\n",
      "+--------------+----------------+\n",
      "|         Aucun|             893|\n",
      "|           1er|             620|\n",
      "|            2e|             292|\n",
      "|            3e|             278|\n",
      "|            4e|             275|\n",
      "+--------------+----------------+\n",
      "\n"
     ]
    },
    {
     "data": {
      "text/plain": [
       "import org.apache.spark.sql.functions._\n",
       "question_3_dataframe: org.apache.spark.sql.Dataset[org.apache.spark.sql.Row] = [arrondissement: string, Nombre d'alertes: bigint]\n"
      ]
     },
     "execution_count": 8,
     "metadata": {},
     "output_type": "execute_result"
    }
   ],
   "source": [
    "import org.apache.spark.sql.functions._\n",
    "\n",
    "val question_3_dataframe = df\n",
    "    .dropDuplicates(\"reportId\", \"citizenId\")\n",
    "    .filter(col(\"peaceScores\") > PEACESCORE_THRESHOLD) // Retirer les doublons liés à la liste de mots heardWords\n",
    "    .withColumn(\"arrondissement\", \n",
    "        when(col(\"latitude\") >= 0 && col(\"latitude\") <= 1 && col(\"longitude\") >= 0 && col(\"longitude\") <= 1, lit(\"1er\"))\n",
    "            .when(col(\"latitude\") >= 1 && col(\"latitude\") <= 2 && col(\"longitude\") >= 0 && col(\"longitude\") <= 1, lit(\"2e\"))\n",
    "            .when(col(\"latitude\") >=  0 && col(\"latitude\") <= 1 && col(\"longitude\") >= 1 && col(\"longitude\") <= 2, lit(\"3e\"))\n",
    "            .when(col(\"latitude\") >= 1 && col(\"latitude\") <= 2 && col(\"longitude\") >= 1 && col(\"longitude\") <= 2, lit(\"4e\"))\n",
    "            .otherwise(\"Aucun\")\n",
    "    ) \n",
    "    .groupBy(\"arrondissement\")\n",
    "    .count()\n",
    "    .withColumnRenamed(\"count\",\"Nombre d'alertes\")\n",
    "    .sort(col(\"Nombre d'alertes\").desc)\n",
    "\n",
    "question_3_dataframe.show()"
   ]
  },
  {
   "cell_type": "markdown",
   "metadata": {},
   "source": [
    "## Question 4 : Quel est le mot associé avec le PeaceScore le plus élevé ?"
   ]
  },
  {
   "cell_type": "markdown",
   "metadata": {},
   "source": [
    "On peut alors prendre des mesures comme le bannissement définitif de ce mot du dictionnaire ! La Paix est plus importante que tout le reste !"
   ]
  },
  {
   "cell_type": "code",
   "execution_count": 9,
   "metadata": {},
   "outputs": [
    {
     "name": "stdout",
     "output_type": "stream",
     "text": [
      "+------------+------------------+\n",
      "|  heardWords|  PeaceScore moyen|\n",
      "+------------+------------------+\n",
      "|      street| 61.97692307692308|\n",
      "|        arse| 49.77428780131483|\n",
      "|       hello|  49.0852144469526|\n",
      "|         ass| 48.98739495798319|\n",
      "|       nigga|48.973118279569896|\n",
      "|       bitch| 48.24878048780488|\n",
      "|        kill| 48.03368421052632|\n",
      "|        piss| 47.54380475594493|\n",
      "|     bastard|       47.47890625|\n",
      "|        fuck| 47.35748792270532|\n",
      "|       idiot|46.786791098348885|\n",
      "|        slut| 46.27088402270884|\n",
      "|        shit| 46.23134328358209|\n",
      "|        damn|  46.1579594345421|\n",
      "|  vegetables| 46.11761487964989|\n",
      "|        crap|46.107883817427386|\n",
      "|motherfucker| 45.57010710808179|\n",
      "|        tree|45.377884615384616|\n",
      "|      bugger| 43.01925133689839|\n",
      "|        door|42.587314017227875|\n",
      "+------------+------------------+\n",
      "only showing top 20 rows\n",
      "\n"
     ]
    },
    {
     "data": {
      "text/plain": [
       "import org.apache.spark.sql.functions._\n",
       "question_4_dataframe: org.apache.spark.sql.Dataset[org.apache.spark.sql.Row] = [heardWords: string, PeaceScore moyen: double]\n"
      ]
     },
     "execution_count": 9,
     "metadata": {},
     "output_type": "execute_result"
    }
   ],
   "source": [
    "import org.apache.spark.sql.functions._\n",
    "\n",
    "val question_4_dataframe = df\n",
    "    .select(col(\"peaceScores\"), col(\"heardWords\"))\n",
    "    .groupBy(\"heardWords\")\n",
    "    .mean(\"peaceScores\")\n",
    "    .withColumnRenamed(\"avg(peaceScores)\",\"PeaceScore moyen\")\n",
    "    .sort(col(\"PeaceScore moyen\").desc)\n",
    "\n",
    "question_4_dataframe.show()"
   ]
  }
 ],
 "metadata": {
  "interpreter": {
   "hash": "c25ca8ebb7b1430641332371f224c12124c57c1c54badf833e96c48905707af9"
  },
  "kernelspec": {
   "display_name": "spylon-kernel",
   "language": "scala",
   "name": "spylon-kernel"
  },
  "language_info": {
   "codemirror_mode": "text/x-scala",
   "file_extension": ".scala",
   "help_links": [
    {
     "text": "MetaKernel Magics",
     "url": "https://metakernel.readthedocs.io/en/latest/source/README.html"
    }
   ],
   "mimetype": "text/x-scala",
   "name": "scala",
   "pygments_lexer": "scala",
   "version": "0.4.1"
  }
 },
 "nbformat": 4,
 "nbformat_minor": 2
}
