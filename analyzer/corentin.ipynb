{
 "cells": [
  {
   "cell_type": "markdown",
   "metadata": {},
   "source": [
    "# Analyse des données\n",
    "\n",
    "## Utilisation\n",
    "Dans ce notebook, on utilise `spylon` pour exécuter du code Scala.\n",
    "Pour utiliser le notebook, il faut exécuter les commandes suivantes :\n",
    "* Installer l'environnement virtuel Python :\n",
    "  * On utilise Python 3.8.10 `pyenv shell 3.8.10`\n",
    "  * On utilise les Poetry pour la gestion de nos dépendances `poetry install`\n",
    "* Installer le Kernel Scala :\n",
    "  * `poetry shell`\n",
    "  * `python -m spylon_kernel install --user`\n",
    "\n",
    "Une fois toutes ces étapes faites, vous pouvez choisir le kernel `spylon-kernel` à l'exécution du notebook.\n",
    "\n",
    "Durant l'analyse de donnée, on va principalement manipuler Spark en Scala. On prendra la liberté d'utiliser Matplotlib en Python pour afficher des graphique comme le langage est plus adapté pour ce genre de manœuvre.\n",
    "\n",
    "## Sommaire\n",
    "Durant cette analyse, on va tenter de répondre à 4 questions que l'on se pose suite au traitement de la masse de données collectées par nos drones.\n",
    "\n",
    "**Définition d'Alerte :** est une alerte pour un citoyen donné lorsque le PeaceScore dépasse le seuil de 70.\n",
    "\n",
    "1. **Quels sont les jours de la semaine avec le nombre d'alertes le plus important ?**\n",
    "    On essaiera de contraster le nombre d'alertes en regardant par la même occasion le nombre de rapports fait par jour de la semaine.\n",
    "2. **Quel est l'évolution de la moyenne des PeaceScores en fonction du jour de l'année ?**\n",
    "    Ça nous permettra de connaître le moment dans l'année où la paix est la plus menacée.\n",
    "3. **Quel est le moment de la journée où le nombre d'alertes est le plus import ?**\n",
    "    Le nombre d'alertes en fonction du moment de la journée (0h à 23h) nous permet de savoir si l'on doit mettre plus de moyen en jour ou durant la nuit pour maintenant la paix.\n",
    "4. **Dans quelle zone de la ville trouve-t-on le plus souvent des alertes ?**\n",
    "    On considère ici que PeaceLand est une zone carrée composée de 4 arrondissements. On cherche à savoir quel arrondissement représente le plus une menace pour la paix de notre communauté."
   ]
  },
  {
   "cell_type": "markdown",
   "metadata": {},
   "source": [
    "## Charger les données"
   ]
  },
  {
   "cell_type": "code",
   "execution_count": 2,
   "metadata": {},
   "outputs": [
    {
     "name": "stdout",
     "output_type": "stream",
     "text": [
      "+--------+--------------+-------------------+------------------+-----------------+----------+---------+-----------+\n",
      "|reportId|peaceWatcherId|               time|          latitude|        longitude|heardWords|citizenId|peaceScores|\n",
      "+--------+--------------+-------------------+------------------+-----------------+----------+---------+-----------+\n",
      "|  941039|        340930|2022-04-27 03:31:39|1.9461451740994147|1.845317417325851|       cat|   345509|         27|\n",
      "|  941039|        340930|2022-04-27 03:31:39|1.9461451740994147|1.845317417325851|       cat|   757853|         32|\n",
      "|  941039|        340930|2022-04-27 03:31:39|1.9461451740994147|1.845317417325851|       cat|   235974|         17|\n",
      "|  941039|        340930|2022-04-27 03:31:39|1.9461451740994147|1.845317417325851|       cat|   539014|         46|\n",
      "|  941039|        340930|2022-04-27 03:31:39|1.9461451740994147|1.845317417325851|       cat|   694939|         58|\n",
      "|  941039|        340930|2022-04-27 03:31:39|1.9461451740994147|1.845317417325851|       cat|   252830|          4|\n",
      "|  941039|        340930|2022-04-27 03:31:39|1.9461451740994147|1.845317417325851|       cat|   882984|         44|\n",
      "|  941039|        340930|2022-04-27 03:31:39|1.9461451740994147|1.845317417325851|       cat|   415478|         11|\n",
      "|  941039|        340930|2022-04-27 03:31:39|1.9461451740994147|1.845317417325851|       cat|   325545|         43|\n",
      "|  941039|        340930|2022-04-27 03:31:39|1.9461451740994147|1.845317417325851|       cat|   626343|          5|\n",
      "|  941039|        340930|2022-04-27 03:31:39|1.9461451740994147|1.845317417325851|     super|   345509|         27|\n",
      "|  941039|        340930|2022-04-27 03:31:39|1.9461451740994147|1.845317417325851|     super|   757853|         32|\n",
      "|  941039|        340930|2022-04-27 03:31:39|1.9461451740994147|1.845317417325851|     super|   235974|         17|\n",
      "|  941039|        340930|2022-04-27 03:31:39|1.9461451740994147|1.845317417325851|     super|   539014|         46|\n",
      "|  941039|        340930|2022-04-27 03:31:39|1.9461451740994147|1.845317417325851|     super|   694939|         58|\n",
      "|  941039|        340930|2022-04-27 03:31:39|1.9461451740994147|1.845317417325851|     super|   252830|          4|\n",
      "|  941039|        340930|2022-04-27 03:31:39|1.9461451740994147|1.845317417325851|     super|   882984|         44|\n",
      "|  941039|        340930|2022-04-27 03:31:39|1.9461451740994147|1.845317417325851|     super|   415478|         11|\n",
      "|  941039|        340930|2022-04-27 03:31:39|1.9461451740994147|1.845317417325851|     super|   325545|         43|\n",
      "|  941039|        340930|2022-04-27 03:31:39|1.9461451740994147|1.845317417325851|     super|   626343|          5|\n",
      "+--------+--------------+-------------------+------------------+-----------------+----------+---------+-----------+\n",
      "only showing top 20 rows\n",
      "\n"
     ]
    },
    {
     "data": {
      "text/plain": [
       "df: org.apache.spark.sql.DataFrame = [reportId: int, peaceWatcherId: int ... 6 more fields]\n"
      ]
     },
     "execution_count": 2,
     "metadata": {},
     "output_type": "execute_result"
    }
   ],
   "source": [
    "val df = spark.read.csv(\"hdfs://localhost:9000/drone-reports\")\n",
    "    .withColumnRenamed(\"_c0\",\"reportId\")\n",
    "    .withColumnRenamed(\"_c1\",\"peaceWatcherId\")\n",
    "    .withColumnRenamed(\"_c2\",\"time\")\n",
    "    .withColumnRenamed(\"_c3\",\"latitude\")\n",
    "    .withColumnRenamed(\"_c4\",\"longitude\")\n",
    "    .withColumnRenamed(\"_c5\",\"heardWords\")\n",
    "    .withColumnRenamed(\"_c6\",\"citizenId\")\n",
    "    .withColumnRenamed(\"_c7\",\"peaceScores\")\n",
    "\n",
    "    .withColumn(\"reportId\",col(\"reportId\").cast(\"int\"))\n",
    "    .withColumn(\"peaceWatcherId\",col(\"peaceWatcherId\").cast(\"int\"))\n",
    "    .withColumn(\"time\",to_timestamp(col(\"time\"), \"yyyy-MM-dd HH:mm:ss\"))\n",
    "    .withColumn(\"latitude\",col(\"latitude\").cast(\"double\"))\n",
    "    .withColumn(\"longitude\",col(\"longitude\").cast(\"double\"))\n",
    "    .withColumn(\"citizenId\",col(\"citizenId\").cast(\"int\"))\n",
    "    .withColumn(\"peaceScores\",col(\"peaceScores\").cast(\"int\"))\n",
    "\n",
    "    df.show()"
   ]
  },
  {
   "cell_type": "markdown",
   "metadata": {},
   "source": [
    "## Question 1 : Quels sont les jours de la semaine avec le nombre d'alertes le plus important ?"
   ]
  },
  {
   "cell_type": "markdown",
   "metadata": {},
   "source": [
    "On essaiera de contraster le nombre d'alertes en regardant par la même occasion le nombre de rapports fait par jour de la semaine."
   ]
  },
  {
   "cell_type": "code",
   "execution_count": null,
   "metadata": {},
   "outputs": [],
   "source": []
  },
  {
   "cell_type": "markdown",
   "metadata": {},
   "source": [
    "## Question 2 : Quel est l'évolution de la moyenne des PeaceScores en fonction du jour de l'année ?"
   ]
  },
  {
   "cell_type": "markdown",
   "metadata": {},
   "source": [
    "Ça nous permettra de connaître le moment dans l'année où la paix est la plus menacée."
   ]
  },
  {
   "cell_type": "code",
   "execution_count": null,
   "metadata": {},
   "outputs": [],
   "source": []
  },
  {
   "cell_type": "markdown",
   "metadata": {},
   "source": [
    "## Question 3 : Quel est le moment de la journée où le nombre d'alertes est le plus import ?"
   ]
  },
  {
   "cell_type": "markdown",
   "metadata": {},
   "source": [
    "Le nombre d'alertes en fonction du moment de la journée (0h à 23h) nous permet de savoir si l'on doit mettre plus de moyen en jour ou durant la nuit pour maintenant la paix."
   ]
  },
  {
   "cell_type": "code",
   "execution_count": null,
   "metadata": {},
   "outputs": [],
   "source": []
  },
  {
   "cell_type": "markdown",
   "metadata": {},
   "source": [
    "## Question 4 : Dans quelle zone de la ville trouve-t-on le plus souvent des alertes ?"
   ]
  },
  {
   "cell_type": "markdown",
   "metadata": {},
   "source": [
    "On considère ici que PeaceLand est une zone carrée composée de 4 arrondissements. On cherche à savoir quel arrondissement représente le plus une menace pour la paix de notre communauté."
   ]
  },
  {
   "cell_type": "code",
   "execution_count": null,
   "metadata": {},
   "outputs": [],
   "source": []
  }
 ],
 "metadata": {
  "interpreter": {
   "hash": "c25ca8ebb7b1430641332371f224c12124c57c1c54badf833e96c48905707af9"
  },
  "kernelspec": {
   "display_name": "spylon-kernel",
   "language": "scala",
   "name": "spylon-kernel"
  },
  "language_info": {
   "codemirror_mode": "text/x-scala",
   "file_extension": ".scala",
   "help_links": [
    {
     "text": "MetaKernel Magics",
     "url": "https://metakernel.readthedocs.io/en/latest/source/README.html"
    }
   ],
   "mimetype": "text/x-scala",
   "name": "scala",
   "pygments_lexer": "scala",
   "version": "0.4.1"
  },
  "orig_nbformat": 4
 },
 "nbformat": 4,
 "nbformat_minor": 2
}
