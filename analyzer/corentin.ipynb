{
 "cells": [
  {
   "cell_type": "markdown",
   "metadata": {},
   "source": [
    "# Analyse des données\n",
    "\n",
    "## Utilisation\n",
    "Dans ce notebook, on utilise `spylon` pour exécuter du code Scala.\n",
    "Pour utiliser le notebook, il faut exécuter les commandes suivantes :\n",
    "* Installer l'environnement virtuel Python :\n",
    "  * On utilise Python 3.8.10 `pyenv shell 3.8.10`\n",
    "  * On utilise les Poetry pour la gestion de nos dépendances `poetry install`\n",
    "* Installer le Kernel Scala :\n",
    "  * `poetry shell`\n",
    "  * `python -m spylon_kernel install --user`\n",
    "\n",
    "Une fois toutes ces étapes faites, vous pouvez choisir le kernel `spylon-kernel` à l'exécution du notebook.\n",
    "\n",
    "## Introduction \n",
    "Durant cette analyse, on va tenter de répondre à 4 questions que l'on se pose suite au traitement de la masse de données collectées par nos drones.\n",
    "\n",
    "On va principalement manipuler Spark en Scala. On prendra la liberté d'utiliser Matplotlib en Python pour afficher des graphique comme le langage est plus adapté pour ce genre de manœuvre.\n",
    "\n",
    "**Définition d'Alerte :** est une alerte pour un citoyen donné lorsque le PeaceScore dépasse le seuil de 70."
   ]
  },
  {
   "cell_type": "markdown",
   "metadata": {},
   "source": [
    "## Charger les données"
   ]
  },
  {
   "cell_type": "code",
   "execution_count": 1,
   "metadata": {},
   "outputs": [
    {
     "data": {
      "text/plain": [
       "Intitializing Scala interpreter ..."
      ]
     },
     "metadata": {},
     "output_type": "display_data"
    },
    {
     "data": {
      "text/plain": [
       "Spark Web UI available at http://nigiva.home:4041\n",
       "SparkContext available as 'sc' (version = 3.2.1, master = local[*], app id = local-1655040630785)\n",
       "SparkSession available as 'spark'\n"
      ]
     },
     "metadata": {},
     "output_type": "display_data"
    },
    {
     "name": "stdout",
     "output_type": "stream",
     "text": [
      "+--------+--------------+-------------------+------------------+-----------------+----------+---------+-----------+\n",
      "|reportId|peaceWatcherId|               time|          latitude|        longitude|heardWords|citizenId|peaceScores|\n",
      "+--------+--------------+-------------------+------------------+-----------------+----------+---------+-----------+\n",
      "|  941039|        340930|2022-04-27 03:31:39|1.9461451740994147|1.845317417325851|       cat|   345509|         27|\n",
      "|  941039|        340930|2022-04-27 03:31:39|1.9461451740994147|1.845317417325851|       cat|   757853|         32|\n",
      "|  941039|        340930|2022-04-27 03:31:39|1.9461451740994147|1.845317417325851|       cat|   235974|         17|\n",
      "|  941039|        340930|2022-04-27 03:31:39|1.9461451740994147|1.845317417325851|       cat|   539014|         46|\n",
      "|  941039|        340930|2022-04-27 03:31:39|1.9461451740994147|1.845317417325851|       cat|   694939|         58|\n",
      "|  941039|        340930|2022-04-27 03:31:39|1.9461451740994147|1.845317417325851|       cat|   252830|          4|\n",
      "|  941039|        340930|2022-04-27 03:31:39|1.9461451740994147|1.845317417325851|       cat|   882984|         44|\n",
      "|  941039|        340930|2022-04-27 03:31:39|1.9461451740994147|1.845317417325851|       cat|   415478|         11|\n",
      "|  941039|        340930|2022-04-27 03:31:39|1.9461451740994147|1.845317417325851|       cat|   325545|         43|\n",
      "|  941039|        340930|2022-04-27 03:31:39|1.9461451740994147|1.845317417325851|       cat|   626343|          5|\n",
      "|  941039|        340930|2022-04-27 03:31:39|1.9461451740994147|1.845317417325851|     super|   345509|         27|\n",
      "|  941039|        340930|2022-04-27 03:31:39|1.9461451740994147|1.845317417325851|     super|   757853|         32|\n",
      "|  941039|        340930|2022-04-27 03:31:39|1.9461451740994147|1.845317417325851|     super|   235974|         17|\n",
      "|  941039|        340930|2022-04-27 03:31:39|1.9461451740994147|1.845317417325851|     super|   539014|         46|\n",
      "|  941039|        340930|2022-04-27 03:31:39|1.9461451740994147|1.845317417325851|     super|   694939|         58|\n",
      "|  941039|        340930|2022-04-27 03:31:39|1.9461451740994147|1.845317417325851|     super|   252830|          4|\n",
      "|  941039|        340930|2022-04-27 03:31:39|1.9461451740994147|1.845317417325851|     super|   882984|         44|\n",
      "|  941039|        340930|2022-04-27 03:31:39|1.9461451740994147|1.845317417325851|     super|   415478|         11|\n",
      "|  941039|        340930|2022-04-27 03:31:39|1.9461451740994147|1.845317417325851|     super|   325545|         43|\n",
      "|  941039|        340930|2022-04-27 03:31:39|1.9461451740994147|1.845317417325851|     super|   626343|          5|\n",
      "+--------+--------------+-------------------+------------------+-----------------+----------+---------+-----------+\n",
      "only showing top 20 rows\n",
      "\n"
     ]
    },
    {
     "data": {
      "text/plain": [
       "PEACESCORE_THRESHOLD: Int = 70\n",
       "df: org.apache.spark.sql.DataFrame = [reportId: int, peaceWatcherId: int ... 6 more fields]\n"
      ]
     },
     "execution_count": 1,
     "metadata": {},
     "output_type": "execute_result"
    }
   ],
   "source": [
    "val PEACESCORE_THRESHOLD = 50\n",
    "val df = spark.read.csv(\"hdfs://localhost:9000/drone-reports\")\n",
    "    .withColumnRenamed(\"_c0\",\"reportId\")\n",
    "    .withColumnRenamed(\"_c1\",\"peaceWatcherId\")\n",
    "    .withColumnRenamed(\"_c2\",\"time\")\n",
    "    .withColumnRenamed(\"_c3\",\"latitude\")\n",
    "    .withColumnRenamed(\"_c4\",\"longitude\")\n",
    "    .withColumnRenamed(\"_c5\",\"heardWords\")\n",
    "    .withColumnRenamed(\"_c6\",\"citizenId\")\n",
    "    .withColumnRenamed(\"_c7\",\"peaceScores\")\n",
    "\n",
    "    .withColumn(\"reportId\",col(\"reportId\").cast(\"int\"))\n",
    "    .withColumn(\"peaceWatcherId\",col(\"peaceWatcherId\").cast(\"int\"))\n",
    "    .withColumn(\"time\",to_timestamp(col(\"time\"), \"yyyy-MM-dd HH:mm:ss\"))\n",
    "    .withColumn(\"latitude\",col(\"latitude\").cast(\"double\"))\n",
    "    .withColumn(\"longitude\",col(\"longitude\").cast(\"double\"))\n",
    "    .withColumn(\"citizenId\",col(\"citizenId\").cast(\"int\"))\n",
    "    .withColumn(\"peaceScores\",col(\"peaceScores\").cast(\"int\"))\n",
    "\n",
    "    df.show()"
   ]
  },
  {
   "cell_type": "markdown",
   "metadata": {},
   "source": [
    "## Question 1 : Quels sont les jours de la semaine avec le nombre d'alertes le plus important ?"
   ]
  },
  {
   "cell_type": "markdown",
   "metadata": {},
   "source": [
    "Cette question permet de savoir quand allouer plus de PeaceMakers durant la semaine et à contrario le moment parfait pour accorder un jour de congé à nos troupes de maintien de la paix."
   ]
  },
  {
   "cell_type": "code",
   "execution_count": 2,
   "metadata": {},
   "outputs": [
    {
     "name": "stdout",
     "output_type": "stream",
     "text": [
      "+--------+----------------+\n",
      "|week_day|Nombre d'alertes|\n",
      "+--------+----------------+\n",
      "|     Sun|              64|\n",
      "|     Mon|              62|\n",
      "|     Thu|              42|\n",
      "|     Sat|              54|\n",
      "|     Wed|              66|\n",
      "|     Tue|              50|\n",
      "|     Fri|              57|\n",
      "+--------+----------------+\n",
      "\n"
     ]
    },
    {
     "data": {
      "text/plain": [
       "import org.apache.spark.sql.functions._\n",
       "question_1_dataframe: org.apache.spark.sql.DataFrame = [week_day: string, Nombre d'alertes: bigint]\n"
      ]
     },
     "execution_count": 2,
     "metadata": {},
     "output_type": "execute_result"
    }
   ],
   "source": [
    "import org.apache.spark.sql.functions._\n",
    "\n",
    "val question_1_dataframe = df\n",
    "    .dropDuplicates(\"reportId\", \"citizenId\") // Retirer les doublons liés à la liste de mots heardWords\n",
    "    .filter(col(\"peaceScores\") > PEACESCORE_THRESHOLD)\n",
    "    .withColumn(\"week_day\", date_format(col(\"time\"), \"E\")) // E pour day_of_week\n",
    "    .groupBy(\"week_day\")\n",
    "    .count()\n",
    "    .withColumnRenamed(\"count\",\"Nombre d'alertes\")\n",
    "\n",
    "question_1_dataframe.show()\n",
    "question_1_dataframe.createOrReplaceTempView(\"question_1_dataframe\")"
   ]
  },
  {
   "cell_type": "code",
   "execution_count": 3,
   "metadata": {},
   "outputs": [
    {
     "name": "stdout",
     "output_type": "stream",
     "text": [
      "          Nombre d'alertes\n",
      "week_day                  \n",
      "Thu                     42\n",
      "Tue                     50\n",
      "Sat                     54\n",
      "Fri                     57\n",
      "Mon                     62\n",
      "Sun                     64\n",
      "Wed                     66\n"
     ]
    },
    {
     "data": {
      "image/png": "[encoded data removed]",
      "text/plain": [
       "<IPython.core.display.Image object>"
      ]
     },
     "execution_count": 3,
     "metadata": {},
     "output_type": "execute_result"
    }
   ],
   "source": [
    "%%python\n",
    "from matplotlib import pyplot as plt\n",
    "from IPython.display import Image\n",
    "import tempfile\n",
    "\n",
    "df = spark.sql(\"select * from question_1_dataframe\").toPandas()\n",
    "df = df.set_index(df[\"week_day\"]).drop(\"week_day\", axis=1).sort_values(\"Nombre d'alertes\")\n",
    "print(df)\n",
    "plt.bar(df.index, height=df[\"Nombre d'alertes\"])\n",
    "plt.title(\"Nombre d'alertes par jour\")\n",
    "plt.xlabel(\"Jour de la semaine\")\n",
    "plt.ylabel(\"Nombre d'alertes\")\n",
    "with tempfile.NamedTemporaryFile(suffix=\".png\") as graph:\n",
    "    plt.savefig(graph.name)\n",
    "    retval = Image(filename=graph.name)"
   ]
  },
  {
   "cell_type": "markdown",
   "metadata": {},
   "source": [
    "## Question 2 : Quelle est l'évolution de la moyenne des PeaceScores en fonction du mois de l'année ?"
   ]
  },
  {
   "cell_type": "markdown",
   "metadata": {},
   "source": [
    "Ça nous permettra de connaître le moment dans l'année où la paix est la plus menacée et donc de savoir quel évenement ou quelle saison influence le plus l'humeur de nos citoyens. Dit autrement, on peut s'attendre à ce que les citoyens soient plus heureux en Été grâce au Soleil et moins en Hiver par manque de luminosité."
   ]
  },
  {
   "cell_type": "code",
   "execution_count": 4,
   "metadata": {},
   "outputs": [
    {
     "name": "stdout",
     "output_type": "stream",
     "text": [
      "+-----+------------------+\n",
      "|month|       peaceScores|\n",
      "+-----+------------------+\n",
      "|    3| 35.67884322678843|\n",
      "|    5| 35.56191467221644|\n",
      "|    6|  37.3142144638404|\n",
      "|    1| 34.31147540983606|\n",
      "|    4|35.265957446808514|\n",
      "|    2| 36.44444444444444|\n",
      "+-----+------------------+\n",
      "\n"
     ]
    },
    {
     "data": {
      "text/plain": [
       "import org.apache.spark.sql.functions._\n",
       "question_2_dataframe: org.apache.spark.sql.DataFrame = [month: string, peaceScores: double]\n"
      ]
     },
     "execution_count": 4,
     "metadata": {},
     "output_type": "execute_result"
    }
   ],
   "source": [
    "import org.apache.spark.sql.functions._\n",
    "\n",
    "val question_2_dataframe = df\n",
    "    .dropDuplicates(\"reportId\", \"citizenId\")\n",
    "    .withColumn(\"month\", date_format(col(\"time\"), \"L\")) // L pour month en texte\n",
    "    .groupBy(\"month\")\n",
    "    .mean(\"peaceScores\")\n",
    "    .withColumnRenamed(\"avg(peaceScores)\",\"peaceScores\")\n",
    "\n",
    "question_2_dataframe.show()\n",
    "question_2_dataframe.createOrReplaceTempView(\"question_2_dataframe\")"
   ]
  },
  {
   "cell_type": "markdown",
   "metadata": {},
   "source": [
    "## Question 3 : Quel est le moment de la journée où le nombre d'alertes est le plus important ?"
   ]
  },
  {
   "cell_type": "markdown",
   "metadata": {},
   "source": [
    "Le nombre d'alertes en fonction du moment de la journée (0h à 23h) nous permet de savoir quand est-ce que l'on doit mettre plus de moyens pour maintenant la paix."
   ]
  },
  {
   "cell_type": "code",
   "execution_count": null,
   "metadata": {},
   "outputs": [],
   "source": []
  },
  {
   "cell_type": "markdown",
   "metadata": {},
   "source": [
    "## Question 4 : Dans quelle zone de PeaceLand trouve-t-on le plus souvent des alertes ?"
   ]
  },
  {
   "cell_type": "markdown",
   "metadata": {},
   "source": [
    "On considère ici que PeaceLand est une zone carrée composée de 4 arrondissements. On cherche à savoir quel arrondissement représente le plus une menace pour la paix de notre communauté."
   ]
  },
  {
   "cell_type": "code",
   "execution_count": null,
   "metadata": {},
   "outputs": [],
   "source": []
  },
  {
   "cell_type": "markdown",
   "metadata": {},
   "source": [
    "## Question 5 : Quel est le mot associé avec le PeaceScore le plus élevé ?"
   ]
  },
  {
   "cell_type": "markdown",
   "metadata": {},
   "source": [
    "On pourra alors prendre des mesures comme le bannissement définitif de ce mot du dictionnaire ! La Paix est plus importe que le vocabulaire !"
   ]
  },
  {
   "cell_type": "code",
   "execution_count": null,
   "metadata": {},
   "outputs": [],
   "source": []
  }
 ],
 "metadata": {
  "interpreter": {
   "hash": "c25ca8ebb7b1430641332371f224c12124c57c1c54badf833e96c48905707af9"
  },
  "kernelspec": {
   "display_name": "spylon-kernel",
   "language": "scala",
   "name": "spylon-kernel"
  },
  "language_info": {
   "codemirror_mode": "text/x-scala",
   "file_extension": ".scala",
   "help_links": [
    {
     "text": "MetaKernel Magics",
     "url": "https://metakernel.readthedocs.io/en/latest/source/README.html"
    }
   ],
   "mimetype": "text/x-scala",
   "name": "scala",
   "pygments_lexer": "scala",
   "version": "0.4.1"
  },
  "orig_nbformat": 4
 },
 "nbformat": 4,
 "nbformat_minor": 2
}
